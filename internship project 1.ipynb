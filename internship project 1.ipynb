{
 "cells": [
  {
   "cell_type": "code",
   "execution_count": 2,
   "id": "066653f4",
   "metadata": {},
   "outputs": [
    {
     "name": "stdout",
     "output_type": "stream",
     "text": [
      "Enter your guess: 9\n",
      "Too high!\n",
      "Enter your guess: 5\n",
      "Too high!\n",
      "Attempts left: 4\n",
      "Enter your guess: 3\n",
      "Too high!\n",
      "Attempts left: 3\n",
      "Enter your guess: 2\n",
      "Too high!\n",
      "Attempts left: 2\n",
      "Enter your guess: 1\n",
      "Congratulations! You've guessed the number.\n"
     ]
    }
   ],
   "source": [
    "#Project Name:Guess the Number\n",
    "import random\n",
    "number_to_guess = random.randint(1, 10)\n",
    "player_guess = int(input(\"Enter your guess: \"))\n",
    "if player_guess > number_to_guess:\n",
    "    print(\"Too high!\")\n",
    "elif player_guess < number_to_guess:\n",
    "    print(\"Too low!\")\n",
    "else:\n",
    "    print(\"Correct!\")\n",
    "attempts = 5\n",
    "while attempts > 0:\n",
    "    player_guess = int(input(\"Enter your guess: \"))\n",
    "    attempts -= 1\n",
    "    if player_guess == number_to_guess:\n",
    "        print(\"Congratulations! You've guessed the number.\")\n",
    "        break\n",
    "    elif player_guess > number_to_guess:\n",
    "        print(\"Too high!\")\n",
    "    else:\n",
    "        print(\"Too low!\")\n",
    "    print(f\"Attempts left: {attempts}\")\n",
    "    if attempts == 0:\n",
    "        print(\"Better luck next time! The number was\", number_to_guess)\n"
   ]
  },
  {
   "cell_type": "code",
   "execution_count": null,
   "id": "e201ff7d",
   "metadata": {},
   "outputs": [],
   "source": []
  }
 ],
 "metadata": {
  "kernelspec": {
   "display_name": "Python 3 (ipykernel)",
   "language": "python",
   "name": "python3"
  },
  "language_info": {
   "codemirror_mode": {
    "name": "ipython",
    "version": 3
   },
   "file_extension": ".py",
   "mimetype": "text/x-python",
   "name": "python",
   "nbconvert_exporter": "python",
   "pygments_lexer": "ipython3",
   "version": "3.10.9"
  }
 },
 "nbformat": 4,
 "nbformat_minor": 5
}
